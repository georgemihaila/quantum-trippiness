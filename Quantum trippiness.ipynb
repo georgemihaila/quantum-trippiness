{
 "cells": [
  {
   "cell_type": "code",
   "execution_count": 109,
   "metadata": {},
   "outputs": [],
   "source": [
    "import numpy as np\n",
    "import math\n",
    "import open3d as o3d\n",
    "import dlib\n",
    "from IPython.display import clear_output"
   ]
  },
  {
   "cell_type": "code",
   "execution_count": 110,
   "metadata": {},
   "outputs": [
    {
     "name": "stdout",
     "output_type": "stream",
     "text": [
      "Shape: (300, 481, 481)\n",
      "[0 0 0 0 0 0 0 0 0 0 0 0 0 0 0 0 0 0 0 0 0 0 0 0 0 0 0 0 0 0 0 0 0 0 0 0 0\n",
      " 0 0 0 0 0 0 0 0 0 0 0 0 0 0 0 0 0 0 0 0 0 0 0 0 0 0 0 0 0 0 0 0 0 0 0 0 0\n",
      " 0 0 0 0 0 0 0 0 0 0 0 0 0 0 0 0 0 0 0 0 0 0 0 0 0 0 0 0 0 0 0 0 0 0 0 0 0\n",
      " 0 0 0 0 0 0 0 0 0 0 0 0 0 0 0 0 0 0 0 0 0 0 0 0 0 0 0 0 0 0 0 0 0 0 0 0 0\n",
      " 0 0 0 0 0 0 0 0 0 0 0 0 0 0 0 0 0 0 0 0 0 0 0 0 0 0 0 0 0 0 0 0 0 0 0 0 0\n",
      " 0 0 0 0 0 0 0 0 0 0 0 0 0 0 0 0 0 0 0 0 0 0 0 0 0 0 0 0 0 0 0 0 0 0 0 0 0\n",
      " 0 0 0 0 0 0 0 0 0 0 0 0 0 0 0 0 0 0 0 0 0 0 0 0 0 0 0 0 0 0 0 0 0 0 0 0 0\n",
      " 0 0 0 0 0 0 0 0 0 0 0 0 0 0 0 0 0 0 0 0 0 0 0 0 0 0 0 0 0 0 0 0 0 0 0 0 0\n",
      " 0 0 0 0 0 0 0 0 0 0 0 0 0 0 0 0 0 0 0 0 0 0 0 0 0 0 0 0 0 0 0 0 0 0 0 0 0\n",
      " 0 0 0 0 0 0 0 0 0 0 0 0 0 0 0 0 0 0 0 0 0 0 0 0 0 0 0 0 0 0 0 0 0 0 0 0 0\n",
      " 0 0 0 0 0 0 0 0 0 0 0 0 0 0 0 0 0 0 0 0 0 0 0 0 0 0 0 0 0 0 0 0 0 0 0 0 0\n",
      " 0 0 0 0 0 0 0 0 0 0 0 0 0 0 0 0 0 0 0 0 0 0 0 0 0 0 0 0 0 0 0 0 0 0 0 0 0\n",
      " 0 0 0 0 0 0 0 0 0 0 0 0 0 0 0 0 0 0 0 0 0 0 0 0 0 0 0 0 0 0 0 0 0 0 0 0 0]\n"
     ]
    }
   ],
   "source": [
    "data = np.load('circle_n0_small.npy')\n",
    "print(\"Shape: {}\".format(data.shape))\n",
    "print(data[0][0])\n",
    "#data = numpy.zeros(6, dtype=mesh.Mesh.dtype)"
   ]
  },
  {
   "cell_type": "code",
   "execution_count": 137,
   "metadata": {},
   "outputs": [
    {
     "name": "stdout",
     "output_type": "stream",
     "text": [
      "80.0%\n",
      "Points: 156875\n"
     ]
    }
   ],
   "source": [
    "def mapFromTo(x,a,b,c,d):\n",
    "   y=(x-a)/(b-a)*(d-c)+c\n",
    "   return y\n",
    "\n",
    "def num_to_rgb(val, max_val=3):\n",
    "    i = (val * 255 / max_val);\n",
    "    r = round(math.sin(0.024 * i + 0) * 127 + 128);\n",
    "    g = round(math.sin(0.024 * i + 2) * 127 + 128);\n",
    "    b = round(math.sin(0.024 * i + 4) * 127 + 128);\n",
    "    return (r / 255,g / 255,b / 255)\n",
    "\n",
    "def generate_vectors(data, layers):\n",
    "    points = []\n",
    "    colors = []\n",
    "    print('Running...')\n",
    "    for t in range(0, layers):\n",
    "    \n",
    "        clear_output(wait=True)\n",
    "        if len(points) > 0:\n",
    "            print('{}%'.format(t * 100 / layers))\n",
    "        \n",
    "        for x in range(0, len(data[1])):\n",
    "            for y in range(0, len(data[2])):\n",
    "                if data[t][x][y] != 0:\n",
    "                    points.append((x, y, t * 10))\n",
    "                    \n",
    "                    prob = data[t][x][y]\n",
    "                    #colors.append((mapFromTo(prob, min_color, max_color, 0, 255), 0, 0))\n",
    "                    #colors.append((0, 255, 255))\n",
    "                    colors.append(num_to_rgb(prob))\n",
    "    \n",
    "    return points, colors\n",
    "\n",
    "pcd = o3d.geometry.PointCloud()\n",
    "p, c = generate_vectors(data, 5)\n",
    "print('Points: {}'.format(len(p)))\n",
    "pcd.points = o3d.utility.Vector3dVector(p)\n",
    "pcd.colors = o3d.utility.Vector3dVector(c)\n",
    "o3d.visualization.draw_geometries([pcd])"
   ]
  },
  {
   "cell_type": "code",
   "execution_count": 55,
   "metadata": {},
   "outputs": [],
   "source": []
  },
  {
   "cell_type": "code",
   "execution_count": null,
   "metadata": {},
   "outputs": [],
   "source": []
  }
 ],
 "metadata": {
  "kernelspec": {
   "display_name": "Python 3",
   "language": "python",
   "name": "python3"
  },
  "language_info": {
   "codemirror_mode": {
    "name": "ipython",
    "version": 3
   },
   "file_extension": ".py",
   "mimetype": "text/x-python",
   "name": "python",
   "nbconvert_exporter": "python",
   "pygments_lexer": "ipython3",
   "version": "3.8.5"
  }
 },
 "nbformat": 4,
 "nbformat_minor": 4
}
